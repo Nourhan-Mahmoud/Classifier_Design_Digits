{
  "nbformat": 4,
  "nbformat_minor": 0,
  "metadata": {
    "colab": {
      "name": "ClassifierDesignDigits.ipynb",
      "private_outputs": true,
      "provenance": [],
      "authorship_tag": "ABX9TyOPv7l+VIODJXDzDANdLZBe",
      "include_colab_link": true
    },
    "kernelspec": {
      "name": "python3",
      "display_name": "Python 3"
    },
    "language_info": {
      "name": "python"
    }
  },
  "cells": [
    {
      "cell_type": "markdown",
      "metadata": {
        "id": "view-in-github",
        "colab_type": "text"
      },
      "source": [
        "<a href=\"https://colab.research.google.com/github/Nourhan-Mahmoud/Classifier_Design_Digits/blob/main/ClassifierDesignDigits.ipynb\" target=\"_parent\"><img src=\"https://colab.research.google.com/assets/colab-badge.svg\" alt=\"Open In Colab\"/></a>"
      ]
    },
    {
      "cell_type": "code",
      "execution_count": null,
      "metadata": {
        "id": "fSXkmosVDFMU"
      },
      "outputs": [],
      "source": [
        "#imports\n",
        "import tensorflow as tf\n",
        "from tensorflow.keras.datasets import mnist\n",
        "from matplotlib import pyplot as plt\n",
        "from keras.preprocessing import image\n",
        "from numpy import argmax"
      ]
    },
    {
      "cell_type": "code",
      "source": [
        "#load MNIST dataset\n",
        "(trainX, trainy), (testX, testy) = mnist.load_data()"
      ],
      "metadata": {
        "id": "V3AO2BphDblE"
      },
      "execution_count": null,
      "outputs": []
    },
    {
      "cell_type": "code",
      "source": [
        "#show first few data from mnist data set \n",
        "for i in range(3):\n",
        "  plt.subplot(331+i)#for graph all the three photoes, the numbers is for the width of the graph\n",
        "  plt.imshow(trainX[i])"
      ],
      "metadata": {
        "id": "B95LHwzOEr1d"
      },
      "execution_count": null,
      "outputs": []
    },
    {
      "cell_type": "code",
      "source": [
        "# reshape dataset to have a single channel\n",
        "trainX = trainX.reshape((trainX.shape[0], 28, 28, 1))\n",
        "testX = testX.reshape((testX.shape[0], 28, 28, 1))"
      ],
      "metadata": {
        "id": "euwSU9H4G3aI"
      },
      "execution_count": null,
      "outputs": []
    },
    {
      "cell_type": "code",
      "source": [
        "# Normalize the pixel values\n",
        "trainX = trainX.astype('float32')\n",
        "testX = testX.astype('float32')\n",
        "trainX = trainX / 255.0\n",
        "testX = testX / 255.0"
      ],
      "metadata": {
        "id": "eCGqESutHIF1"
      },
      "execution_count": null,
      "outputs": []
    },
    {
      "cell_type": "code",
      "source": [
        "# Define the model\n",
        "model = tf.keras.models.Sequential([\n",
        "  tf.keras.layers.Conv2D(32, (3, 3), activation='relu',kernel_initializer='he_uniform', input_shape=(28, 28, 1)),\n",
        "  tf.keras.layers.MaxPooling2D((2, 2)),\n",
        "  tf.keras.layers.Conv2D(64, (3, 3), activation='relu',kernel_initializer='he_uniform'),\n",
        "  tf.keras.layers.Conv2D(64, (3, 3), activation='relu',kernel_initializer='he_uniform'),\n",
        "  tf.keras.layers.MaxPooling2D((2, 2)),\n",
        "  tf.keras.layers.Flatten(),\n",
        "  tf.keras.layers.Dense(128, activation=tf.nn.relu),\n",
        "  tf.keras.layers.Dense(100, activation=tf.nn.relu),\n",
        "  tf.keras.layers.Dense(10, activation=tf.nn.softmax)\n",
        "])"
      ],
      "metadata": {
        "id": "NsIROpiQHW3H"
      },
      "execution_count": null,
      "outputs": []
    },
    {
      "cell_type": "code",
      "source": [
        "# Setup training parameters\n",
        "model.compile(optimizer='adam', loss='sparse_categorical_crossentropy', metrics=['accuracy'])"
      ],
      "metadata": {
        "id": "2CkpHF3vIBUZ"
      },
      "execution_count": null,
      "outputs": []
    },
    {
      "cell_type": "code",
      "source": [
        "# Train the model\n",
        "print(f'\\nMODEL TRAINING:')\n",
        "model.fit(trainX, trainy, epochs=12)"
      ],
      "metadata": {
        "id": "aDFDrxKjIGlK"
      },
      "execution_count": null,
      "outputs": []
    },
    {
      "cell_type": "code",
      "source": [
        "model.save('final_model')"
      ],
      "metadata": {
        "id": "ZWs-TQG2bfK_"
      },
      "execution_count": null,
      "outputs": []
    },
    {
      "cell_type": "code",
      "source": [
        "# Evaluate on the test set\n",
        "print(f'\\nMODEL EVALUATION:')\n",
        "test_loss = model.evaluate(testX, testy)"
      ],
      "metadata": {
        "id": "nMULZa2CI5v3"
      },
      "execution_count": null,
      "outputs": []
    },
    {
      "cell_type": "code",
      "source": [
        "# I try to type with the paint and take a pic of it\n",
        "# and test it\n",
        "# load the image\n",
        "img = image.load_img('/content/Untitled.png', grayscale=True, target_size=(28, 28))\n",
        "# convert to array\n",
        "img = image.img_to_array(img)\n",
        "# reshape into a single sample with 1 channel\n",
        "img = img.reshape(1, 28, 28, 1)\n",
        "# prepare pixel data\n",
        "img = img.astype('float32')\n",
        "img = img / 255.0"
      ],
      "metadata": {
        "id": "eIuPC30UZS56"
      },
      "execution_count": null,
      "outputs": []
    },
    {
      "cell_type": "code",
      "source": [
        "# predict the class\n",
        "predict_value = model.predict(img)\n",
        "digit = argmax(predict_value)\n",
        "print(digit)"
      ],
      "metadata": {
        "id": "V-YhvGtCaluB"
      },
      "execution_count": null,
      "outputs": []
    }
  ]
}